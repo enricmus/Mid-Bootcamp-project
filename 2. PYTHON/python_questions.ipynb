{
 "cells": [
  {
   "cell_type": "code",
   "execution_count": 1,
   "id": "b456be5a-b762-4691-8316-773a37420e9f",
   "metadata": {},
   "outputs": [],
   "source": [
    "import pandas as pd\n",
    "import numpy as np"
   ]
  },
  {
   "cell_type": "code",
   "execution_count": 2,
   "id": "5b6ef3dc-19bc-4c8e-bde9-e39d4e0e899a",
   "metadata": {},
   "outputs": [],
   "source": [
    "data = pd.read_csv('regression_data.csv')"
   ]
  },
  {
   "cell_type": "code",
   "execution_count": 3,
   "id": "9f1ea75e-3b16-4fe0-80c8-2f19377618a0",
   "metadata": {},
   "outputs": [
    {
     "data": {
      "text/plain": [
       "Index(['7129300520', '10/13/14', '3', '1', '1180', '5650', '1.1', '0', '0.1',\n",
       "       '3.1', '7', '1180.1', '0.2', '1955', '0.3', '98178', '47.5112',\n",
       "       '-122.257', '1340', '5650.1', '221900'],\n",
       "      dtype='object')"
      ]
     },
     "execution_count": 3,
     "metadata": {},
     "output_type": "execute_result"
    }
   ],
   "source": [
    "data.columns"
   ]
  },
  {
   "cell_type": "code",
   "execution_count": 4,
   "id": "77c40274-214c-43c9-8855-9c142c2bcb9b",
   "metadata": {},
   "outputs": [
    {
     "name": "stdout",
     "output_type": "stream",
     "text": [
      "<class 'pandas.core.frame.DataFrame'>\n",
      "RangeIndex: 21596 entries, 0 to 21595\n",
      "Data columns (total 21 columns):\n",
      " #   Column      Non-Null Count  Dtype  \n",
      "---  ------      --------------  -----  \n",
      " 0   7129300520  21596 non-null  int64  \n",
      " 1   10/13/14    21596 non-null  object \n",
      " 2   3           21596 non-null  int64  \n",
      " 3   1           21596 non-null  float64\n",
      " 4   1180        21596 non-null  int64  \n",
      " 5   5650        21596 non-null  int64  \n",
      " 6   1.1         21596 non-null  float64\n",
      " 7   0           21596 non-null  int64  \n",
      " 8   0.1         21596 non-null  int64  \n",
      " 9   3.1         21596 non-null  int64  \n",
      " 10  7           21596 non-null  int64  \n",
      " 11  1180.1      21596 non-null  int64  \n",
      " 12  0.2         21596 non-null  int64  \n",
      " 13  1955        21596 non-null  int64  \n",
      " 14  0.3         21596 non-null  int64  \n",
      " 15  98178       21596 non-null  int64  \n",
      " 16  47.5112     21596 non-null  float64\n",
      " 17  -122.257    21596 non-null  float64\n",
      " 18  1340        21596 non-null  int64  \n",
      " 19  5650.1      21596 non-null  int64  \n",
      " 20  221900      21596 non-null  int64  \n",
      "dtypes: float64(4), int64(16), object(1)\n",
      "memory usage: 3.5+ MB\n"
     ]
    }
   ],
   "source": [
    "data.info()"
   ]
  },
  {
   "cell_type": "code",
   "execution_count": 5,
   "id": "2b42943f-f111-4788-94ed-1e4a826613a5",
   "metadata": {},
   "outputs": [],
   "source": [
    "## renombramos columnas\n",
    "data.columns=['id','date','bedrooms','bathrooms','sqft_living','sqft_lot','floors','waterfront','view','condition','grade','sqft_above','sqft_basement','yr_built','yr_renovated','zip_code','lat','lon','sqft_living15','sqft_lot15','price']"
   ]
  },
  {
   "cell_type": "code",
   "execution_count": 6,
   "id": "2fec8b17-1121-41e6-b210-d3ddc8f1eb89",
   "metadata": {},
   "outputs": [
    {
     "data": {
      "text/html": [
       "<div>\n",
       "<style scoped>\n",
       "    .dataframe tbody tr th:only-of-type {\n",
       "        vertical-align: middle;\n",
       "    }\n",
       "\n",
       "    .dataframe tbody tr th {\n",
       "        vertical-align: top;\n",
       "    }\n",
       "\n",
       "    .dataframe thead th {\n",
       "        text-align: right;\n",
       "    }\n",
       "</style>\n",
       "<table border=\"1\" class=\"dataframe\">\n",
       "  <thead>\n",
       "    <tr style=\"text-align: right;\">\n",
       "      <th></th>\n",
       "      <th>id</th>\n",
       "      <th>date</th>\n",
       "      <th>bedrooms</th>\n",
       "      <th>bathrooms</th>\n",
       "      <th>sqft_living</th>\n",
       "      <th>sqft_lot</th>\n",
       "      <th>floors</th>\n",
       "      <th>waterfront</th>\n",
       "      <th>view</th>\n",
       "      <th>condition</th>\n",
       "      <th>...</th>\n",
       "      <th>sqft_above</th>\n",
       "      <th>sqft_basement</th>\n",
       "      <th>yr_built</th>\n",
       "      <th>yr_renovated</th>\n",
       "      <th>zip_code</th>\n",
       "      <th>lat</th>\n",
       "      <th>lon</th>\n",
       "      <th>sqft_living15</th>\n",
       "      <th>sqft_lot15</th>\n",
       "      <th>price</th>\n",
       "    </tr>\n",
       "  </thead>\n",
       "  <tbody>\n",
       "    <tr>\n",
       "      <th>0</th>\n",
       "      <td>6414100192</td>\n",
       "      <td>12/9/14</td>\n",
       "      <td>3</td>\n",
       "      <td>2.25</td>\n",
       "      <td>2570</td>\n",
       "      <td>7242</td>\n",
       "      <td>2.0</td>\n",
       "      <td>0</td>\n",
       "      <td>0</td>\n",
       "      <td>3</td>\n",
       "      <td>...</td>\n",
       "      <td>2170</td>\n",
       "      <td>400</td>\n",
       "      <td>1951</td>\n",
       "      <td>1991</td>\n",
       "      <td>98125</td>\n",
       "      <td>47.7210</td>\n",
       "      <td>-122.319</td>\n",
       "      <td>1690</td>\n",
       "      <td>7639</td>\n",
       "      <td>538000</td>\n",
       "    </tr>\n",
       "    <tr>\n",
       "      <th>1</th>\n",
       "      <td>5631500400</td>\n",
       "      <td>2/25/15</td>\n",
       "      <td>2</td>\n",
       "      <td>1.00</td>\n",
       "      <td>770</td>\n",
       "      <td>10000</td>\n",
       "      <td>1.0</td>\n",
       "      <td>0</td>\n",
       "      <td>0</td>\n",
       "      <td>3</td>\n",
       "      <td>...</td>\n",
       "      <td>770</td>\n",
       "      <td>0</td>\n",
       "      <td>1933</td>\n",
       "      <td>0</td>\n",
       "      <td>98028</td>\n",
       "      <td>47.7379</td>\n",
       "      <td>-122.233</td>\n",
       "      <td>2720</td>\n",
       "      <td>8062</td>\n",
       "      <td>180000</td>\n",
       "    </tr>\n",
       "    <tr>\n",
       "      <th>2</th>\n",
       "      <td>2487200875</td>\n",
       "      <td>12/9/14</td>\n",
       "      <td>4</td>\n",
       "      <td>3.00</td>\n",
       "      <td>1960</td>\n",
       "      <td>5000</td>\n",
       "      <td>1.0</td>\n",
       "      <td>0</td>\n",
       "      <td>0</td>\n",
       "      <td>5</td>\n",
       "      <td>...</td>\n",
       "      <td>1050</td>\n",
       "      <td>910</td>\n",
       "      <td>1965</td>\n",
       "      <td>0</td>\n",
       "      <td>98136</td>\n",
       "      <td>47.5208</td>\n",
       "      <td>-122.393</td>\n",
       "      <td>1360</td>\n",
       "      <td>5000</td>\n",
       "      <td>604000</td>\n",
       "    </tr>\n",
       "    <tr>\n",
       "      <th>3</th>\n",
       "      <td>1954400510</td>\n",
       "      <td>2/18/15</td>\n",
       "      <td>3</td>\n",
       "      <td>2.00</td>\n",
       "      <td>1680</td>\n",
       "      <td>8080</td>\n",
       "      <td>1.0</td>\n",
       "      <td>0</td>\n",
       "      <td>0</td>\n",
       "      <td>3</td>\n",
       "      <td>...</td>\n",
       "      <td>1680</td>\n",
       "      <td>0</td>\n",
       "      <td>1987</td>\n",
       "      <td>0</td>\n",
       "      <td>98074</td>\n",
       "      <td>47.6168</td>\n",
       "      <td>-122.045</td>\n",
       "      <td>1800</td>\n",
       "      <td>7503</td>\n",
       "      <td>510000</td>\n",
       "    </tr>\n",
       "    <tr>\n",
       "      <th>4</th>\n",
       "      <td>7237550310</td>\n",
       "      <td>5/12/14</td>\n",
       "      <td>4</td>\n",
       "      <td>4.50</td>\n",
       "      <td>5420</td>\n",
       "      <td>101930</td>\n",
       "      <td>1.0</td>\n",
       "      <td>0</td>\n",
       "      <td>0</td>\n",
       "      <td>3</td>\n",
       "      <td>...</td>\n",
       "      <td>3890</td>\n",
       "      <td>1530</td>\n",
       "      <td>2001</td>\n",
       "      <td>0</td>\n",
       "      <td>98053</td>\n",
       "      <td>47.6561</td>\n",
       "      <td>-122.005</td>\n",
       "      <td>4760</td>\n",
       "      <td>101930</td>\n",
       "      <td>1230000</td>\n",
       "    </tr>\n",
       "    <tr>\n",
       "      <th>...</th>\n",
       "      <td>...</td>\n",
       "      <td>...</td>\n",
       "      <td>...</td>\n",
       "      <td>...</td>\n",
       "      <td>...</td>\n",
       "      <td>...</td>\n",
       "      <td>...</td>\n",
       "      <td>...</td>\n",
       "      <td>...</td>\n",
       "      <td>...</td>\n",
       "      <td>...</td>\n",
       "      <td>...</td>\n",
       "      <td>...</td>\n",
       "      <td>...</td>\n",
       "      <td>...</td>\n",
       "      <td>...</td>\n",
       "      <td>...</td>\n",
       "      <td>...</td>\n",
       "      <td>...</td>\n",
       "      <td>...</td>\n",
       "      <td>...</td>\n",
       "    </tr>\n",
       "    <tr>\n",
       "      <th>21591</th>\n",
       "      <td>263000018</td>\n",
       "      <td>5/21/14</td>\n",
       "      <td>3</td>\n",
       "      <td>2.50</td>\n",
       "      <td>1530</td>\n",
       "      <td>1131</td>\n",
       "      <td>3.0</td>\n",
       "      <td>0</td>\n",
       "      <td>0</td>\n",
       "      <td>3</td>\n",
       "      <td>...</td>\n",
       "      <td>1530</td>\n",
       "      <td>0</td>\n",
       "      <td>2009</td>\n",
       "      <td>0</td>\n",
       "      <td>98103</td>\n",
       "      <td>47.6993</td>\n",
       "      <td>-122.346</td>\n",
       "      <td>1530</td>\n",
       "      <td>1509</td>\n",
       "      <td>360000</td>\n",
       "    </tr>\n",
       "    <tr>\n",
       "      <th>21592</th>\n",
       "      <td>6600060120</td>\n",
       "      <td>2/23/15</td>\n",
       "      <td>4</td>\n",
       "      <td>2.50</td>\n",
       "      <td>2310</td>\n",
       "      <td>5813</td>\n",
       "      <td>2.0</td>\n",
       "      <td>0</td>\n",
       "      <td>0</td>\n",
       "      <td>3</td>\n",
       "      <td>...</td>\n",
       "      <td>2310</td>\n",
       "      <td>0</td>\n",
       "      <td>2014</td>\n",
       "      <td>0</td>\n",
       "      <td>98146</td>\n",
       "      <td>47.5107</td>\n",
       "      <td>-122.362</td>\n",
       "      <td>1830</td>\n",
       "      <td>7200</td>\n",
       "      <td>400000</td>\n",
       "    </tr>\n",
       "    <tr>\n",
       "      <th>21593</th>\n",
       "      <td>1523300141</td>\n",
       "      <td>6/23/14</td>\n",
       "      <td>2</td>\n",
       "      <td>0.75</td>\n",
       "      <td>1020</td>\n",
       "      <td>1350</td>\n",
       "      <td>2.0</td>\n",
       "      <td>0</td>\n",
       "      <td>0</td>\n",
       "      <td>3</td>\n",
       "      <td>...</td>\n",
       "      <td>1020</td>\n",
       "      <td>0</td>\n",
       "      <td>2009</td>\n",
       "      <td>0</td>\n",
       "      <td>98144</td>\n",
       "      <td>47.5944</td>\n",
       "      <td>-122.299</td>\n",
       "      <td>1020</td>\n",
       "      <td>2007</td>\n",
       "      <td>402101</td>\n",
       "    </tr>\n",
       "    <tr>\n",
       "      <th>21594</th>\n",
       "      <td>291310100</td>\n",
       "      <td>1/16/15</td>\n",
       "      <td>3</td>\n",
       "      <td>2.50</td>\n",
       "      <td>1600</td>\n",
       "      <td>2388</td>\n",
       "      <td>2.0</td>\n",
       "      <td>0</td>\n",
       "      <td>0</td>\n",
       "      <td>3</td>\n",
       "      <td>...</td>\n",
       "      <td>1600</td>\n",
       "      <td>0</td>\n",
       "      <td>2004</td>\n",
       "      <td>0</td>\n",
       "      <td>98027</td>\n",
       "      <td>47.5345</td>\n",
       "      <td>-122.069</td>\n",
       "      <td>1410</td>\n",
       "      <td>1287</td>\n",
       "      <td>400000</td>\n",
       "    </tr>\n",
       "    <tr>\n",
       "      <th>21595</th>\n",
       "      <td>1523300157</td>\n",
       "      <td>10/15/14</td>\n",
       "      <td>2</td>\n",
       "      <td>0.75</td>\n",
       "      <td>1020</td>\n",
       "      <td>1076</td>\n",
       "      <td>2.0</td>\n",
       "      <td>0</td>\n",
       "      <td>0</td>\n",
       "      <td>3</td>\n",
       "      <td>...</td>\n",
       "      <td>1020</td>\n",
       "      <td>0</td>\n",
       "      <td>2008</td>\n",
       "      <td>0</td>\n",
       "      <td>98144</td>\n",
       "      <td>47.5941</td>\n",
       "      <td>-122.299</td>\n",
       "      <td>1020</td>\n",
       "      <td>1357</td>\n",
       "      <td>325000</td>\n",
       "    </tr>\n",
       "  </tbody>\n",
       "</table>\n",
       "<p>21596 rows × 21 columns</p>\n",
       "</div>"
      ],
      "text/plain": [
       "               id      date  bedrooms  bathrooms  sqft_living  sqft_lot  \\\n",
       "0      6414100192   12/9/14         3       2.25         2570      7242   \n",
       "1      5631500400   2/25/15         2       1.00          770     10000   \n",
       "2      2487200875   12/9/14         4       3.00         1960      5000   \n",
       "3      1954400510   2/18/15         3       2.00         1680      8080   \n",
       "4      7237550310   5/12/14         4       4.50         5420    101930   \n",
       "...           ...       ...       ...        ...          ...       ...   \n",
       "21591   263000018   5/21/14         3       2.50         1530      1131   \n",
       "21592  6600060120   2/23/15         4       2.50         2310      5813   \n",
       "21593  1523300141   6/23/14         2       0.75         1020      1350   \n",
       "21594   291310100   1/16/15         3       2.50         1600      2388   \n",
       "21595  1523300157  10/15/14         2       0.75         1020      1076   \n",
       "\n",
       "       floors  waterfront  view  condition  ...  sqft_above  sqft_basement  \\\n",
       "0         2.0           0     0          3  ...        2170            400   \n",
       "1         1.0           0     0          3  ...         770              0   \n",
       "2         1.0           0     0          5  ...        1050            910   \n",
       "3         1.0           0     0          3  ...        1680              0   \n",
       "4         1.0           0     0          3  ...        3890           1530   \n",
       "...       ...         ...   ...        ...  ...         ...            ...   \n",
       "21591     3.0           0     0          3  ...        1530              0   \n",
       "21592     2.0           0     0          3  ...        2310              0   \n",
       "21593     2.0           0     0          3  ...        1020              0   \n",
       "21594     2.0           0     0          3  ...        1600              0   \n",
       "21595     2.0           0     0          3  ...        1020              0   \n",
       "\n",
       "       yr_built  yr_renovated  zip_code      lat      lon  sqft_living15  \\\n",
       "0          1951          1991     98125  47.7210 -122.319           1690   \n",
       "1          1933             0     98028  47.7379 -122.233           2720   \n",
       "2          1965             0     98136  47.5208 -122.393           1360   \n",
       "3          1987             0     98074  47.6168 -122.045           1800   \n",
       "4          2001             0     98053  47.6561 -122.005           4760   \n",
       "...         ...           ...       ...      ...      ...            ...   \n",
       "21591      2009             0     98103  47.6993 -122.346           1530   \n",
       "21592      2014             0     98146  47.5107 -122.362           1830   \n",
       "21593      2009             0     98144  47.5944 -122.299           1020   \n",
       "21594      2004             0     98027  47.5345 -122.069           1410   \n",
       "21595      2008             0     98144  47.5941 -122.299           1020   \n",
       "\n",
       "       sqft_lot15    price  \n",
       "0            7639   538000  \n",
       "1            8062   180000  \n",
       "2            5000   604000  \n",
       "3            7503   510000  \n",
       "4          101930  1230000  \n",
       "...           ...      ...  \n",
       "21591        1509   360000  \n",
       "21592        7200   400000  \n",
       "21593        2007   402101  \n",
       "21594        1287   400000  \n",
       "21595        1357   325000  \n",
       "\n",
       "[21596 rows x 21 columns]"
      ]
     },
     "execution_count": 6,
     "metadata": {},
     "output_type": "execute_result"
    }
   ],
   "source": [
    "data"
   ]
  },
  {
   "cell_type": "code",
   "execution_count": 7,
   "id": "1a915446-64aa-4e1f-9f1f-cb2fb49cdc66",
   "metadata": {
    "tags": []
   },
   "outputs": [],
   "source": [
    "## eliminamos duplicados, valores nulos y columnas irelevantes\n",
    "data = data.drop_duplicates()\n",
    "data = data.drop(['id', 'date', 'sqft_living', 'sqft_lot'], axis=1)"
   ]
  },
  {
   "cell_type": "code",
   "execution_count": 8,
   "id": "57f8833d-8b78-4d0b-9eae-dd4130119cb6",
   "metadata": {},
   "outputs": [
    {
     "name": "stdout",
     "output_type": "stream",
     "text": [
      "bedrooms 0 NaN   0\n",
      "bathrooms 0 NaN   0\n",
      "floors 0 NaN   0\n",
      "waterfront 0 NaN   0\n",
      "view 0 NaN   0\n",
      "condition 0 NaN   0\n",
      "grade 0 NaN   0\n",
      "sqft_above 0 NaN   0\n",
      "sqft_basement 0 NaN   0\n",
      "yr_built 0 NaN   0\n",
      "yr_renovated 0 NaN   0\n",
      "zip_code 0 NaN   0\n",
      "lat 0 NaN   0\n",
      "lon 0 NaN   0\n",
      "sqft_living15 0 NaN   0\n",
      "sqft_lot15 0 NaN   0\n",
      "price 0 NaN   0\n"
     ]
    }
   ],
   "source": [
    "## comprobamos cuantos NaNs hay\n",
    "\n",
    "for e in data.columns:\n",
    "    print(e,data[e].isna().sum(),\"NaN\", ' ',int((data[e].isna().sum()/data.shape[0])*100))"
   ]
  },
  {
   "cell_type": "code",
   "execution_count": 9,
   "id": "e626a206-46c1-43f7-948b-623f4339ee75",
   "metadata": {},
   "outputs": [],
   "source": [
    "## en vez de eliminar null values los cambiamos por la mediana \n",
    "\n",
    "##datam = np.mean(data['median_home_val'])\n",
    "##data['median_home_val'] = data['median_home_val'].fillna(mean_median_home_value)"
   ]
  },
  {
   "cell_type": "code",
   "execution_count": 10,
   "id": "9e252e96-0de8-4d76-bb78-6ae0933b59de",
   "metadata": {},
   "outputs": [],
   "source": [
    "import seaborn as sns \n",
    "import matplotlib.pyplot as plt\n",
    "%matplotlib inline"
   ]
  },
  {
   "cell_type": "code",
   "execution_count": 11,
   "id": "060ac27c-ff2d-4c47-a5f8-630b9b2b0e17",
   "metadata": {},
   "outputs": [
    {
     "data": {
      "image/png": "[encoded data removed]",
      "text/plain": [
       "<Figure size 792x648 with 2 Axes>"
      ]
     },
     "metadata": {
      "needs_background": "light"
     },
     "output_type": "display_data"
    }
   ],
   "source": [
    "## miramos la correlacoión de las columnas con el gráfico de matriz de correlaciones entre las variables\n",
    "correlations_matrix = data.corr()\n",
    "mask = np.zeros_like(correlations_matrix)\n",
    "mask[np.triu_indices_from(mask)] = True\n",
    "fig, ax = plt.subplots(figsize=(11, 9))\n",
    "ax = sns.heatmap(correlations_matrix, mask=mask, annot=True)\n",
    "plt.show()"
   ]
  },
  {
   "cell_type": "code",
   "execution_count": 12,
   "id": "2c49852b-ea04-4e58-ad2f-2a78b7baf512",
   "metadata": {},
   "outputs": [],
   "source": [
    "## tras eliminar varias columnas no hay ninguna que tenga demasiada correlación con otra por lo que no eliminamos ninguna por este criterio"
   ]
  },
  {
   "cell_type": "code",
   "execution_count": 13,
   "id": "0b6d3c83-67bd-4cd4-bbc5-2f8c3a1162a7",
   "metadata": {},
   "outputs": [
    {
     "data": {
      "text/plain": [
       "Index(['bedrooms', 'bathrooms', 'floors', 'waterfront', 'view', 'condition',\n",
       "       'grade', 'sqft_above', 'sqft_basement', 'yr_built', 'yr_renovated',\n",
       "       'zip_code', 'lat', 'lon', 'sqft_living15', 'sqft_lot15', 'price'],\n",
       "      dtype='object')"
      ]
     },
     "execution_count": 13,
     "metadata": {},
     "output_type": "execute_result"
    }
   ],
   "source": [
    "data.columns"
   ]
  },
  {
   "cell_type": "code",
   "execution_count": 14,
   "id": "e65f6403-93a7-4519-a9fd-09075a7de5d4",
   "metadata": {},
   "outputs": [
    {
     "data": {
      "image/png": "[encoded data removed]",
      "text/plain": [
       "<Figure size 432x288 with 1 Axes>"
      ]
     },
     "metadata": {
      "needs_background": "light"
     },
     "output_type": "display_data"
    }
   ],
   "source": [
    "sns.boxplot(data=data, x= 'bedrooms');"
   ]
  },
  {
   "cell_type": "code",
   "execution_count": 15,
   "id": "20a3569c-f694-4184-80b7-32b0e0d5af45",
   "metadata": {},
   "outputs": [
    {
     "data": {
      "image/png": "[encoded data removed]",
      "text/plain": [
       "<Figure size 432x288 with 1 Axes>"
      ]
     },
     "metadata": {
      "needs_background": "light"
     },
     "output_type": "display_data"
    }
   ],
   "source": [
    "scatter_plot=data.plot.scatter(x='price',y='bedrooms')\n",
    "scatter_plot.plot()\n",
    "plt.show()"
   ]
  },
  {
   "cell_type": "code",
   "execution_count": 16,
   "id": "49da3ee9-7b9a-43fc-abda-d7b1644a5135",
   "metadata": {},
   "outputs": [
    {
     "data": {
      "image/png": "[encoded data removed]",
      "text/plain": [
       "<Figure size 432x288 with 1 Axes>"
      ]
     },
     "metadata": {
      "needs_background": "light"
     },
     "output_type": "display_data"
    }
   ],
   "source": [
    "sns.boxplot(data=data, x= 'bathrooms');"
   ]
  },
  {
   "cell_type": "code",
   "execution_count": 17,
   "id": "5ac78443-98df-46b4-b3e4-d2064bf01261",
   "metadata": {},
   "outputs": [
    {
     "data": {
      "image/png": "[encoded data removed]",
      "text/plain": [
       "<Figure size 432x288 with 1 Axes>"
      ]
     },
     "metadata": {
      "needs_background": "light"
     },
     "output_type": "display_data"
    }
   ],
   "source": [
    "scatter_plot=data.plot.scatter(x='price',y='bathrooms')\n",
    "scatter_plot.plot()\n",
    "plt.show()"
   ]
  },
  {
   "cell_type": "code",
   "execution_count": 18,
   "id": "905535da-7d29-4c4c-a3a3-9ef508370d7b",
   "metadata": {},
   "outputs": [
    {
     "data": {
      "image/png": "[encoded data removed]",
      "text/plain": [
       "<Figure size 432x288 with 1 Axes>"
      ]
     },
     "metadata": {
      "needs_background": "light"
     },
     "output_type": "display_data"
    }
   ],
   "source": [
    "sns.boxplot(data=data, x= 'floors');"
   ]
  },
  {
   "cell_type": "code",
   "execution_count": 19,
   "id": "2cfe785d-77fa-4427-bce7-2a773a988cb0",
   "metadata": {},
   "outputs": [
    {
     "data": {
      "image/png": "[encoded data removed]",
      "text/plain": [
       "<Figure size 432x288 with 1 Axes>"
      ]
     },
     "metadata": {
      "needs_background": "light"
     },
     "output_type": "display_data"
    }
   ],
   "source": [
    "scatter_plot=data.plot.scatter(x='price',y='floors')\n",
    "scatter_plot.plot()\n",
    "plt.show()"
   ]
  },
  {
   "cell_type": "code",
   "execution_count": 20,
   "id": "40c21198-078d-41a9-88b0-e1381d4af5aa",
   "metadata": {},
   "outputs": [
    {
     "data": {
      "image/png": "[encoded data removed]",
      "text/plain": [
       "<Figure size 432x288 with 1 Axes>"
      ]
     },
     "metadata": {
      "needs_background": "light"
     },
     "output_type": "display_data"
    }
   ],
   "source": [
    "sns.boxplot(data=data, x= 'waterfront');"
   ]
  },
  {
   "cell_type": "code",
   "execution_count": 21,
   "id": "b0d7963e-bffd-4922-aa1e-7f584190fe1f",
   "metadata": {},
   "outputs": [
    {
     "data": {
      "image/png": "[encoded data removed]",
      "text/plain": [
       "<Figure size 432x288 with 1 Axes>"
      ]
     },
     "metadata": {
      "needs_background": "light"
     },
     "output_type": "display_data"
    }
   ],
   "source": [
    "sns.boxplot(data=data, x= 'view');"
   ]
  },
  {
   "cell_type": "code",
   "execution_count": 22,
   "id": "11af465a-ed5d-4c2e-ae5c-500c0d64ca64",
   "metadata": {},
   "outputs": [
    {
     "data": {
      "image/png": "[encoded data removed]",
      "text/plain": [
       "<Figure size 432x288 with 1 Axes>"
      ]
     },
     "metadata": {
      "needs_background": "light"
     },
     "output_type": "display_data"
    }
   ],
   "source": [
    "sns.boxplot(data=data, x= 'condition');"
   ]
  },
  {
   "cell_type": "code",
   "execution_count": 23,
   "id": "666aa01e-df27-481d-a592-9e24657ebe38",
   "metadata": {},
   "outputs": [
    {
     "data": {
      "image/png": "[encoded data removed]",
      "text/plain": [
       "<Figure size 432x288 with 1 Axes>"
      ]
     },
     "metadata": {
      "needs_background": "light"
     },
     "output_type": "display_data"
    }
   ],
   "source": [
    "sns.boxplot(data=data, x= 'yr_renovated');"
   ]
  },
  {
   "cell_type": "code",
   "execution_count": 24,
   "id": "0c290d5a-2d8b-46a1-b5ae-6bb2e2271bcf",
   "metadata": {},
   "outputs": [
    {
     "data": {
      "image/png": "[encoded data removed]",
      "text/plain": [
       "<Figure size 432x288 with 1 Axes>"
      ]
     },
     "metadata": {
      "needs_background": "light"
     },
     "output_type": "display_data"
    }
   ],
   "source": [
    "sns.boxplot(data=data, x= 'zip_code');"
   ]
  },
  {
   "cell_type": "code",
   "execution_count": 25,
   "id": "2989a3ce-2f66-4346-9f97-317ad5421b60",
   "metadata": {},
   "outputs": [
    {
     "data": {
      "image/png": "[encoded data removed]",
      "text/plain": [
       "<Figure size 432x288 with 1 Axes>"
      ]
     },
     "metadata": {
      "needs_background": "light"
     },
     "output_type": "display_data"
    }
   ],
   "source": [
    "sns.boxplot(data=data, x= 'lat');"
   ]
  },
  {
   "cell_type": "code",
   "execution_count": 26,
   "id": "ae895d70-c7fb-46e3-ac0d-1d3f80613863",
   "metadata": {},
   "outputs": [
    {
     "data": {
      "image/png": "[encoded data removed]",
      "text/plain": [
       "<Figure size 432x288 with 1 Axes>"
      ]
     },
     "metadata": {
      "needs_background": "light"
     },
     "output_type": "display_data"
    }
   ],
   "source": [
    "sns.boxplot(data=data, x= 'lon');"
   ]
  },
  {
   "cell_type": "code",
   "execution_count": 27,
   "id": "14d8287d-140e-463e-83b3-04826d2a5236",
   "metadata": {},
   "outputs": [
    {
     "data": {
      "image/png": "[encoded data removed]",
      "text/plain": [
       "<Figure size 432x288 with 1 Axes>"
      ]
     },
     "metadata": {
      "needs_background": "light"
     },
     "output_type": "display_data"
    }
   ],
   "source": [
    "sns.boxplot(data=data, x= 'sqft_above');"
   ]
  },
  {
   "cell_type": "code",
   "execution_count": 28,
   "id": "8ac12d48-7d2f-4d8e-94d1-1899a9ba244c",
   "metadata": {},
   "outputs": [
    {
     "data": {
      "image/png": "[encoded data removed]",
      "text/plain": [
       "<Figure size 432x288 with 1 Axes>"
      ]
     },
     "metadata": {
      "needs_background": "light"
     },
     "output_type": "display_data"
    }
   ],
   "source": [
    "sns.boxplot(data=data, x= 'sqft_basement');"
   ]
  },
  {
   "cell_type": "code",
   "execution_count": 29,
   "id": "e1e56c31-ab15-4958-834c-c34c2d6906c6",
   "metadata": {},
   "outputs": [
    {
     "data": {
      "image/png": "[encoded data removed]",
      "text/plain": [
       "<Figure size 432x288 with 1 Axes>"
      ]
     },
     "metadata": {
      "needs_background": "light"
     },
     "output_type": "display_data"
    }
   ],
   "source": [
    "sns.boxplot(data=data, x= 'sqft_living15');"
   ]
  },
  {
   "cell_type": "code",
   "execution_count": 30,
   "id": "0e27994a-d4f6-4bed-aa49-7fa9eb5333ca",
   "metadata": {},
   "outputs": [
    {
     "data": {
      "image/png": "[encoded data removed]",
      "text/plain": [
       "<Figure size 432x288 with 1 Axes>"
      ]
     },
     "metadata": {
      "needs_background": "light"
     },
     "output_type": "display_data"
    }
   ],
   "source": [
    "sns.boxplot(data=data, x= 'sqft_lot15');"
   ]
  },
  {
   "cell_type": "code",
   "execution_count": 31,
   "id": "1815795f-801c-46b4-90ba-24d5a78b7f57",
   "metadata": {},
   "outputs": [],
   "source": [
    "## eliminamos columnas irelevantes consideradas tras inspección visual de las gráficas previas\n",
    "\n",
    "data = data.drop(['bathrooms', 'bedrooms'], axis=1)"
   ]
  },
  {
   "cell_type": "code",
   "execution_count": 32,
   "id": "b76bf5d7-3135-4625-ac63-8efb3567de8d",
   "metadata": {
    "tags": []
   },
   "outputs": [],
   "source": [
    "## eliminamos outliers\n",
    "def remove_outlier(df_in, col_name):\n",
    "    q1 = df_in[col_name].quantile(0.25)\n",
    "    q3 = df_in[col_name].quantile(0.75)\n",
    "    iqr = q3-q1 #Interquartile range\n",
    "    fence_low  = q1-1.5*iqr\n",
    "    fence_high = q3+1.5*iqr\n",
    "    df_out = df_in.loc[(df_in[col_name] > fence_low) & (df_in[col_name] < fence_high)]\n",
    "    return df_out"
   ]
  },
  {
   "cell_type": "code",
   "execution_count": 33,
   "id": "2d2ddcfd-f5da-4b5b-a845-da4ab64e3d44",
   "metadata": {},
   "outputs": [],
   "source": [
    "for c in data.columns:\n",
    "    remove_outlier(data, c)"
   ]
  },
  {
   "cell_type": "code",
   "execution_count": 34,
   "id": "92a77114-d1c6-4991-8891-ad65a0c8b01b",
   "metadata": {},
   "outputs": [],
   "source": [
    "data['yr_last_ren'] = [2015-x if x!=0 else 2015-data.loc[i,'yr_built'] for i,x in enumerate(data['yr_renovated'])]\n",
    "data.drop(['yr_renovated'],axis =1, inplace = True)"
   ]
  },
  {
   "cell_type": "code",
   "execution_count": 35,
   "id": "3121bb1d-e361-4d01-8aa1-72a2d8216098",
   "metadata": {},
   "outputs": [],
   "source": [
    "data = data.drop(['grade'], axis = 1)"
   ]
  },
  {
   "cell_type": "code",
   "execution_count": 36,
   "id": "6270c718-8cea-418c-abf7-6f055270b125",
   "metadata": {},
   "outputs": [],
   "source": [
    "from sklearn.model_selection import train_test_split\n",
    "from sklearn import linear_model\n",
    "from sklearn.metrics import mean_squared_error, r2_score, mean_absolute_error,explained_variance_score\n",
    "\n",
    "## from sklearn.preprocessing import minmax_scale \n",
    "from sklearn.preprocessing import StandardScaler\n",
    "from sklearn import preprocessing"
   ]
  },
  {
   "cell_type": "code",
   "execution_count": 37,
   "id": "f5876e90-9fc7-4ae3-bc6c-3b26c3d8cbc0",
   "metadata": {},
   "outputs": [],
   "source": [
    "##escalamos los datos\n",
    "for c in data.columns[0:-1]:\n",
    "    data[c]=StandardScaler().fit_transform(data[c].values.reshape(-1, 1))\n",
    "    data.head()"
   ]
  },
  {
   "cell_type": "code",
   "execution_count": 38,
   "id": "4e00df51-5c06-4cef-a65d-5723a8c156bd",
   "metadata": {},
   "outputs": [
    {
     "name": "stdout",
     "output_type": "stream",
     "text": [
      "(21596, 13)\n",
      "(21596,)\n"
     ]
    }
   ],
   "source": [
    "from sklearn.model_selection import train_test_split as tts\n",
    "\n",
    "x = data.drop(columns = ['price'])\n",
    "y = data['price']\n",
    "\n",
    "X_train, X_test, y_train, y_test = tts(x, y, test_size=0.2, random_state=42)\n",
    "print(x.shape)\n",
    "print(y.shape)"
   ]
  },
  {
   "cell_type": "code",
   "execution_count": 39,
   "id": "9ee03c06-d232-4be7-b303-409c0e2eacb5",
   "metadata": {},
   "outputs": [
    {
     "name": "stdout",
     "output_type": "stream",
     "text": [
      "Model: linreg, train R2: 0.6619802293853823 -- test R2: 0.6576418998147464\n",
      "Model: lasso, train R2: 0.010224024030192624 -- test R2: 0.009757777844925375\n",
      "Model: ridge, train R2: 0.6619802256625411 -- test R2: 0.6576484906782705\n",
      "Model: elastic, train R2: 0.09079616756173592 -- test R2: 0.09391347641726722\n",
      "Model: rfr, train R2: 0.9815037352902722 -- test R2: 0.8674791277065435\n"
     ]
    }
   ],
   "source": [
    "from sklearn.ensemble import RandomForestRegressor as RFR\n",
    "from sklearn.linear_model import Lasso\n",
    "from sklearn.linear_model import Ridge\n",
    "from sklearn.linear_model import ElasticNet\n",
    "\n",
    "\n",
    "rfr=RFR()\n",
    "rfr.fit(X_train, y_train)\n",
    "\n",
    "\n",
    "y_pred_rfr = rfr.predict(X_test)\n",
    "ridge=Ridge()\n",
    "ridge.fit(X_train, y_train)\n",
    "y_pred_ridge = ridge.predict(X_test)\n",
    "\n",
    "\n",
    "elastic=ElasticNet()\n",
    "elastic.fit(X_train, y_train)\n",
    "y_pred_elastic = elastic.predict(X_test)\n",
    "\n",
    "\n",
    "lasso=Lasso()\n",
    "lasso.fit(X_train, y_train)\n",
    "y_pred_lasso = lasso.predict(X_test)\n",
    "\n",
    "\n",
    "from sklearn.linear_model import LinearRegression as LinReg\n",
    "linreg=LinReg()\n",
    "linreg.fit(X_train, y_train)\n",
    "y_pred_linreg=linreg.predict(X_test)\n",
    "\n",
    "\n",
    "models=[linreg, lasso, ridge, elastic, rfr]\n",
    "model_names=['linreg', 'lasso', 'ridge', 'elastic', 'rfr']\n",
    "preds=[y_pred_linreg, y_pred_lasso, y_pred_ridge, y_pred_elastic, y_pred_rfr]\n",
    "for i in range(len(models)):\n",
    "    train_score=models[i].score(X_train, y_train)\n",
    "    test_score=models[i].score(X_test, y_test)\n",
    "    print ('Model: {}, train R2: {} -- test R2: {}'.format(model_names[i], train_score, test_score))"
   ]
  },
  {
   "cell_type": "markdown",
   "id": "263cd62a-5035-4685-b93f-3439974a6976",
   "metadata": {},
   "source": [
    "-------------------\n",
    "# Cross Validation\n",
    "------------------"
   ]
  },
  {
   "cell_type": "code",
   "execution_count": 59,
   "id": "436ceeda-f141-4440-ae0b-411e453ed905",
   "metadata": {},
   "outputs": [],
   "source": [
    "import pandas as pd\n",
    "import numpy as np \n",
    "\n",
    "from sklearn.tree import DecisionTreeClassifier\n",
    "from sklearn.model_selection import train_test_split"
   ]
  },
  {
   "cell_type": "code",
   "execution_count": 61,
   "id": "c656a11f-93df-49f0-948c-89d5a306299a",
   "metadata": {},
   "outputs": [],
   "source": [
    "df = pd.read_csv(\"regression_data.csv\")"
   ]
  },
  {
   "cell_type": "code",
   "execution_count": 62,
   "id": "db66674e-04da-4009-bcef-885048f301ae",
   "metadata": {},
   "outputs": [],
   "source": [
    "df = df[df.columns.drop(list(df.filter(regex='Unnamed')))]"
   ]
  },
  {
   "cell_type": "code",
   "execution_count": 63,
   "id": "7cb721a6-eacc-44cc-83c4-d544744792de",
   "metadata": {},
   "outputs": [
    {
     "data": {
      "text/html": [
       "<div>\n",
       "<style scoped>\n",
       "    .dataframe tbody tr th:only-of-type {\n",
       "        vertical-align: middle;\n",
       "    }\n",
       "\n",
       "    .dataframe tbody tr th {\n",
       "        vertical-align: top;\n",
       "    }\n",
       "\n",
       "    .dataframe thead th {\n",
       "        text-align: right;\n",
       "    }\n",
       "</style>\n",
       "<table border=\"1\" class=\"dataframe\">\n",
       "  <thead>\n",
       "    <tr style=\"text-align: right;\">\n",
       "      <th></th>\n",
       "      <th>3</th>\n",
       "      <th>1</th>\n",
       "      <th>1180</th>\n",
       "      <th>5650</th>\n",
       "      <th>1.1</th>\n",
       "      <th>0</th>\n",
       "      <th>0.1</th>\n",
       "      <th>3.1</th>\n",
       "      <th>7</th>\n",
       "      <th>1180.1</th>\n",
       "      <th>0.2</th>\n",
       "      <th>1955</th>\n",
       "      <th>0.3</th>\n",
       "      <th>98178</th>\n",
       "      <th>47.5112</th>\n",
       "      <th>-122.257</th>\n",
       "      <th>1340</th>\n",
       "      <th>5650.1</th>\n",
       "      <th>221900</th>\n",
       "    </tr>\n",
       "  </thead>\n",
       "  <tbody>\n",
       "    <tr>\n",
       "      <th>0</th>\n",
       "      <td>3</td>\n",
       "      <td>2.25</td>\n",
       "      <td>2570</td>\n",
       "      <td>7242</td>\n",
       "      <td>2.0</td>\n",
       "      <td>0</td>\n",
       "      <td>0</td>\n",
       "      <td>3</td>\n",
       "      <td>7</td>\n",
       "      <td>2170</td>\n",
       "      <td>400</td>\n",
       "      <td>1951</td>\n",
       "      <td>1991</td>\n",
       "      <td>98125</td>\n",
       "      <td>47.7210</td>\n",
       "      <td>-122.319</td>\n",
       "      <td>1690</td>\n",
       "      <td>7639</td>\n",
       "      <td>538000</td>\n",
       "    </tr>\n",
       "    <tr>\n",
       "      <th>1</th>\n",
       "      <td>2</td>\n",
       "      <td>1.00</td>\n",
       "      <td>770</td>\n",
       "      <td>10000</td>\n",
       "      <td>1.0</td>\n",
       "      <td>0</td>\n",
       "      <td>0</td>\n",
       "      <td>3</td>\n",
       "      <td>6</td>\n",
       "      <td>770</td>\n",
       "      <td>0</td>\n",
       "      <td>1933</td>\n",
       "      <td>0</td>\n",
       "      <td>98028</td>\n",
       "      <td>47.7379</td>\n",
       "      <td>-122.233</td>\n",
       "      <td>2720</td>\n",
       "      <td>8062</td>\n",
       "      <td>180000</td>\n",
       "    </tr>\n",
       "    <tr>\n",
       "      <th>2</th>\n",
       "      <td>4</td>\n",
       "      <td>3.00</td>\n",
       "      <td>1960</td>\n",
       "      <td>5000</td>\n",
       "      <td>1.0</td>\n",
       "      <td>0</td>\n",
       "      <td>0</td>\n",
       "      <td>5</td>\n",
       "      <td>7</td>\n",
       "      <td>1050</td>\n",
       "      <td>910</td>\n",
       "      <td>1965</td>\n",
       "      <td>0</td>\n",
       "      <td>98136</td>\n",
       "      <td>47.5208</td>\n",
       "      <td>-122.393</td>\n",
       "      <td>1360</td>\n",
       "      <td>5000</td>\n",
       "      <td>604000</td>\n",
       "    </tr>\n",
       "    <tr>\n",
       "      <th>3</th>\n",
       "      <td>3</td>\n",
       "      <td>2.00</td>\n",
       "      <td>1680</td>\n",
       "      <td>8080</td>\n",
       "      <td>1.0</td>\n",
       "      <td>0</td>\n",
       "      <td>0</td>\n",
       "      <td>3</td>\n",
       "      <td>8</td>\n",
       "      <td>1680</td>\n",
       "      <td>0</td>\n",
       "      <td>1987</td>\n",
       "      <td>0</td>\n",
       "      <td>98074</td>\n",
       "      <td>47.6168</td>\n",
       "      <td>-122.045</td>\n",
       "      <td>1800</td>\n",
       "      <td>7503</td>\n",
       "      <td>510000</td>\n",
       "    </tr>\n",
       "    <tr>\n",
       "      <th>4</th>\n",
       "      <td>4</td>\n",
       "      <td>4.50</td>\n",
       "      <td>5420</td>\n",
       "      <td>101930</td>\n",
       "      <td>1.0</td>\n",
       "      <td>0</td>\n",
       "      <td>0</td>\n",
       "      <td>3</td>\n",
       "      <td>11</td>\n",
       "      <td>3890</td>\n",
       "      <td>1530</td>\n",
       "      <td>2001</td>\n",
       "      <td>0</td>\n",
       "      <td>98053</td>\n",
       "      <td>47.6561</td>\n",
       "      <td>-122.005</td>\n",
       "      <td>4760</td>\n",
       "      <td>101930</td>\n",
       "      <td>1230000</td>\n",
       "    </tr>\n",
       "  </tbody>\n",
       "</table>\n",
       "</div>"
      ],
      "text/plain": [
       "   3     1  1180    5650  1.1  0  0.1  3.1   7  1180.1   0.2  1955   0.3  \\\n",
       "0  3  2.25  2570    7242  2.0  0    0    3   7    2170   400  1951  1991   \n",
       "1  2  1.00   770   10000  1.0  0    0    3   6     770     0  1933     0   \n",
       "2  4  3.00  1960    5000  1.0  0    0    5   7    1050   910  1965     0   \n",
       "3  3  2.00  1680    8080  1.0  0    0    3   8    1680     0  1987     0   \n",
       "4  4  4.50  5420  101930  1.0  0    0    3  11    3890  1530  2001     0   \n",
       "\n",
       "   98178  47.5112  -122.257  1340  5650.1   221900  \n",
       "0  98125  47.7210  -122.319  1690    7639   538000  \n",
       "1  98028  47.7379  -122.233  2720    8062   180000  \n",
       "2  98136  47.5208  -122.393  1360    5000   604000  \n",
       "3  98074  47.6168  -122.045  1800    7503   510000  \n",
       "4  98053  47.6561  -122.005  4760  101930  1230000  "
      ]
     },
     "execution_count": 63,
     "metadata": {},
     "output_type": "execute_result"
    }
   ],
   "source": [
    "X = df.iloc[:, 2:] # Variables numéricas. En este modelo representan las variables independientes que explicaran la variable categórica.\n",
    "Y = df.iloc[:, 1] # Variable Categórica. La que queremos predecir. La que nos indicara si el cancer es benigno o maligno.\n",
    "X.head()"
   ]
  },
  {
   "cell_type": "code",
   "execution_count": 64,
   "id": "a23425d6-86b3-4f24-a6a0-7b03a6b94b27",
   "metadata": {},
   "outputs": [
    {
     "data": {
      "text/plain": [
       "6/23/14    142\n",
       "6/25/14    131\n",
       "6/26/14    131\n",
       "7/8/14     127\n",
       "4/27/15    126\n",
       "          ... \n",
       "1/17/15      1\n",
       "1/31/15      1\n",
       "5/24/15      1\n",
       "11/2/14      1\n",
       "7/27/14      1\n",
       "Name: 10/13/14, Length: 372, dtype: int64"
      ]
     },
     "execution_count": 64,
     "metadata": {},
     "output_type": "execute_result"
    }
   ],
   "source": [
    "Y.value_counts()"
   ]
  },
  {
   "cell_type": "code",
   "execution_count": 65,
   "id": "8cf2b4ff-7807-41f6-a4dc-6a772e659a74",
   "metadata": {},
   "outputs": [
    {
     "name": "stdout",
     "output_type": "stream",
     "text": [
      "0.004630344188918043\n"
     ]
    }
   ],
   "source": [
    "X_train, X_test, Y_train, Y_test = train_test_split(X, Y, test_size = 0.3, random_state = 4)\n",
    "modelo = DecisionTreeClassifier()\n",
    "modelo.fit(X_train, Y_train)\n",
    "resultado = modelo.score(X_test, Y_test)\n",
    "print(resultado)"
   ]
  },
  {
   "cell_type": "code",
   "execution_count": 66,
   "id": "c6851966-e70d-40b1-8f3c-8ed1ebe3669d",
   "metadata": {},
   "outputs": [],
   "source": [
    "from sklearn.model_selection import KFold\n",
    "\n",
    "modelo = DecisionTreeClassifier()\n",
    "kfold_validacion = KFold(10)"
   ]
  },
  {
   "cell_type": "code",
   "execution_count": 67,
   "id": "1e8d6c52-6c8e-4283-a0f7-6e0ec8dfd123",
   "metadata": {},
   "outputs": [
    {
     "name": "stdout",
     "output_type": "stream",
     "text": [
      "[0.0037037  0.00138889 0.00231481 0.00416667 0.00648148 0.00231481\n",
      " 0.00185271 0.00555813 0.0041686  0.00509495]\n"
     ]
    },
    {
     "data": {
      "text/plain": [
       "0.0037044756660319423"
      ]
     },
     "execution_count": 67,
     "metadata": {},
     "output_type": "execute_result"
    }
   ],
   "source": [
    "from sklearn.model_selection import cross_val_score\n",
    "\n",
    "resultados = cross_val_score(modelo, X, Y, cv = kfold_validacion)\n",
    "print(resultados)\n",
    "resultados.mean()"
   ]
  },
  {
   "cell_type": "code",
   "execution_count": null,
   "id": "0a41970e-591e-4fcb-a466-a236a380f619",
   "metadata": {},
   "outputs": [],
   "source": []
  }
 ],
 "metadata": {
  "kernelspec": {
   "display_name": "Python 3 (ipykernel)",
   "language": "python",
   "name": "python3"
  },
  "language_info": {
   "codemirror_mode": {
    "name": "ipython",
    "version": 3
   },
   "file_extension": ".py",
   "mimetype": "text/x-python",
   "name": "python",
   "nbconvert_exporter": "python",
   "pygments_lexer": "ipython3",
   "version": "3.9.12"
  }
 },
 "nbformat": 4,
 "nbformat_minor": 5
}
